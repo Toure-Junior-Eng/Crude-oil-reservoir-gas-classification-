{
 "cells": [
  {
   "cell_type": "code",
   "execution_count": 5,
   "id": "90ce0a8f",
   "metadata": {},
   "outputs": [
    {
     "name": "stdout",
     "output_type": "stream",
     "text": [
      "\n",
      " Enter the API gravity : 20\n",
      "\n",
      " Enter the Gas Oil Ratio : 150\n",
      "\n",
      " Enter the Formation Oil Volume Factor : 1.0\n",
      "\n",
      " Low Shrinkage Crude, with: \n",
      "API:20.0 Deg. \t GOR:150.0 SCF/STB \t Bo:1.0 RB/STB\n"
     ]
    }
   ],
   "source": [
    "API = float(input(\"\\n Enter the API gravity : \"))\n",
    "GOR = float(input(\"\\n Enter the Gas Oil Ratio : \"))\n",
    "Bo = float(input(\"\\n Enter the Formation Oil Volume Factor : \"))\n",
    "\n",
    "\n",
    "if API < 35.0 and GOR < 200.0 and Bo <1.2:\n",
    "  print(f\"\\n Low Shrinkage Crude, with: \\nAPI:{API} Deg. \\t GOR:{GOR} SCF/STB \\t Bo:{Bo} RB/STB\")\n",
    "elif 35 <= API <=45 and 200<=GOR<=700 and 1.2<=Bo<=1.5:\n",
    "  print(f\"\\n Ordinary Black Oil, with: \\nAPI:{API} Deg. \\t GOR:{GOR} SCF/STB \\t Bo:{Bo} RB/STB\")\n",
    "elif 45==3000 and Bo >2:\n",
    "  print(f\"\\n Near Critical Crude Oil, with: \\nAPI:{API} Deg. \\t GOR:{GOR} SCF/STB \\t Bo:{Bo} RB/STB\")\n",
    "else:\n",
    "  print(\"\\n The entered properties don't fit into anny classification!\")"
   ]
  },
  {
   "cell_type": "code",
   "execution_count": 6,
   "id": "659ce703",
   "metadata": {},
   "outputs": [
    {
     "name": "stdout",
     "output_type": "stream",
     "text": [
      "\n",
      " Enter the API gravity : 70\n",
      "\n",
      " Enter the Gas Oil Ratio : 9000\n",
      "\n",
      " Retrograde gas-condensate reservoir, with: \n",
      "API:70.0 Deg. \t GOR:9000.0 SCF/STB \t\n"
     ]
    }
   ],
   "source": [
    "API = float(input(\"\\n Enter the API gravity : \"))\n",
    "GOR = float(input(\"\\n Enter the Gas Oil Ratio : \"))\n",
    "\n",
    "if API > 50.0 and 8000 <=GOR<= 70000:\n",
    "    print(f\"\\n Retrograde gas-condensate reservoir, with: \\nAPI:{API} Deg. \\t GOR:{GOR} SCF/STB \\t\")\n",
    "elif API > 60.0 and 60000 <=GOR<=100000:\n",
    "    print(f\"\\n Wet-gas reservoir, with: \\nAPI:{API} Deg. \\t GOR:{GOR} SCF/STB \\t\")\n",
    "    "
   ]
  },
  {
   "cell_type": "code",
   "execution_count": null,
   "id": "e22a9860",
   "metadata": {},
   "outputs": [],
   "source": []
  }
 ],
 "metadata": {
  "kernelspec": {
   "display_name": "Python 3 (ipykernel)",
   "language": "python",
   "name": "python3"
  },
  "language_info": {
   "codemirror_mode": {
    "name": "ipython",
    "version": 3
   },
   "file_extension": ".py",
   "mimetype": "text/x-python",
   "name": "python",
   "nbconvert_exporter": "python",
   "pygments_lexer": "ipython3",
   "version": "3.9.13"
  }
 },
 "nbformat": 4,
 "nbformat_minor": 5
}
